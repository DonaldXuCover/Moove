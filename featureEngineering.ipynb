{
 "cells": [
  {
   "cell_type": "code",
   "execution_count": 85,
   "metadata": {},
   "outputs": [],
   "source": [
    "import numpy as np\n",
    "import pandas as pd\n",
    "import os\n",
    "import json\n",
    "from geopy import distance"
   ]
  },
  {
   "cell_type": "code",
   "execution_count": 166,
   "metadata": {},
   "outputs": [],
   "source": [
    "# calculate average distance from one coordinate to another colletion of coordinates in geojson\n",
    "def avgDistance(coordinates, lat, long):\n",
    "    '''\n",
    "    @coordinates: list of coordinates\n",
    "    @lat: lat of a policy\n",
    "    @long: long of a policy\n",
    "    '''\n",
    "    distances = []\n",
    "    for i in coordinates:\n",
    "        mooveLong, mooveLat = i # Moove's coordinate is (long, lat)\n",
    "        dist = distance.distance((lat, long), (mooveLat, mooveLong)).miles\n",
    "        distances.append(dist)\n",
    "    return np.mean(distances)\n"
   ]
  },
  {
   "cell_type": "code",
   "execution_count": 200,
   "metadata": {},
   "outputs": [],
   "source": [
    "# paths\n",
    "pathMoove = 'cap_moove_0114_part1.csv'\n",
    "pathCap = 'CAPPolicyAddress_geocoded_sample.csv'\n",
    "\n",
    "# columns\n",
    "columnsMooveKeys = [\n",
    "    'features', 'functional_class', 'pol_number'\n",
    "]\n",
    "columnsMoove = [\n",
    "    'confidence_score', 'score', 'curvature', 'paved', 'railway_crossing', \n",
    "    'ramp', 'road_roughness', 'slope', 'speed', 'traffic_signs_count', 'urban'\n",
    "]\n",
    "columnsCap = [\n",
    "    'pol_number', 'lat', 'lon'\n",
    "]\n",
    "polkey = 'pol_number'\n",
    "\n",
    "# load data\n",
    "moove = pd.read_csv(pathMoove)[columnsMooveKeys + columnsMoove]\n",
    "cap = pd.read_csv(pathCap)[columnsCap]\n",
    "\n",
    "# merge data by pol_number\n",
    "data = pd.merge(moove, cap, how='left', on=polkey)\n",
    "\n",
    "# new columns\n",
    "data['coordinates'] = data.features.str.replace('\\'', '\\\"').apply(json.loads).apply(pd.Series)['geometry'].apply(lambda x: x['coordinates'])\n",
    "data['distance'] = data.apply(lambda row: avgDistance(row['coordinates'], row['lat'], row['lon']), axis=1)\n",
    "data['distanceReverse'] = 1 / data['distance']\n",
    "\n",
    "# Method 1 - simple average\n",
    "# Boolean and Tri-value variables are averaged as well to represent the percentage of the conditions.\n",
    "resultSimpleAverage = data.\\\n",
    "    groupby(polkey).\\\n",
    "    agg({x: 'mean' for x in columnsMoove})\n",
    "resultSimpleAverage.rename(\n",
    "    columns={col: col+'_SimpleAvg' for col in resultSimpleAverage.columns if col not in [polkey]},\n",
    "    inplace=True\n",
    ")\n",
    "\n",
    "# Method 2 - distance based weighted average\n",
    "resultDistanceAverage = data.\\\n",
    "    groupby(polkey).\\\n",
    "    apply(lambda x: pd.Series(np.average(x[columnsMoove], weights=x[\"distanceReverse\"], axis=0), [columnsMoove]))\n",
    "resultDistanceAverage.columns = resultDistanceAverage.columns.get_level_values(0)\n",
    "resultDistanceAverage.rename(\n",
    "    columns={col: col+'_DistanceAvg' for col in resultDistanceAverage.columns if col not in [polkey]},\n",
    "    inplace=True\n",
    ")\n"
   ]
  }
 ],
 "metadata": {
  "interpreter": {
   "hash": "38cca0c38332a56087b24af0bc80247f4fced29cb4f7f437d91dc159adec9c4e"
  },
  "kernelspec": {
   "display_name": "Python 3.9.7 64-bit ('base': conda)",
   "language": "python",
   "name": "python3"
  },
  "language_info": {
   "codemirror_mode": {
    "name": "ipython",
    "version": 3
   },
   "file_extension": ".py",
   "mimetype": "text/x-python",
   "name": "python",
   "nbconvert_exporter": "python",
   "pygments_lexer": "ipython3",
   "version": "3.9.7"
  },
  "orig_nbformat": 4
 },
 "nbformat": 4,
 "nbformat_minor": 2
}
